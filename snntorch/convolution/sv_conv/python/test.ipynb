{
 "cells": [
  {
   "cell_type": "code",
   "execution_count": 28,
   "id": "9071b1d5",
   "metadata": {},
   "outputs": [],
   "source": [
    "import pandas as pd\n",
    "import numpy as np\n",
    "import glob\n",
    "\n",
    "file_list = glob.glob('./mem_dumps/memory_dump_event_*.csv')\n",
    "\n",
    "value_arrays = []\n",
    "\n",
    "for filename in file_list:\n",
    "    df = pd.read_csv(filename)\n",
    "    vals = df['ch0'].to_numpy()\n",
    "    vals_reshaped = vals.reshape(8, 8)   # Reshape to 8x8\n",
    "    value_arrays.append(vals_reshaped)\n"
   ]
  },
  {
   "cell_type": "code",
   "execution_count": 32,
   "id": "46721a60",
   "metadata": {},
   "outputs": [
    {
     "data": {
      "text/plain": [
       "array([[ 0,  2,  0, -2,  1,  2,  0,  0],\n",
       "       [ 0,  1,  0, -1,  0,  1,  0,  0],\n",
       "       [ 0, -3,  1,  1,  0,  0,  0,  0],\n",
       "       [ 0, -4,  0,  4,  0,  1, -1,  0],\n",
       "       [ 0,  0,  0,  1,  0,  2, -2,  0],\n",
       "       [ 0,  1,  0, -1,  0,  0,  2, -1],\n",
       "       [ 0,  0,  0, -1,  0, -1, -1,  2],\n",
       "       [ 0,  0,  0, -2,  0,  0, -1,  1]], dtype=int64)"
      ]
     },
     "execution_count": 32,
     "metadata": {},
     "output_type": "execute_result"
    }
   ],
   "source": [
    "value_arrays[2]"
   ]
  },
  {
   "cell_type": "code",
   "execution_count": null,
   "id": "6e8a8852",
   "metadata": {},
   "outputs": [
    {
     "data": {
      "text/plain": [
       "[]"
      ]
     },
     "execution_count": 17,
     "metadata": {},
     "output_type": "execute_result"
    }
   ],
   "source": []
  }
 ],
 "metadata": {
  "kernelspec": {
   "display_name": "snn-conv",
   "language": "python",
   "name": "python3"
  },
  "language_info": {
   "codemirror_mode": {
    "name": "ipython",
    "version": 3
   },
   "file_extension": ".py",
   "mimetype": "text/x-python",
   "name": "python",
   "nbconvert_exporter": "python",
   "pygments_lexer": "ipython3",
   "version": "3.9.21"
  }
 },
 "nbformat": 4,
 "nbformat_minor": 5
}
