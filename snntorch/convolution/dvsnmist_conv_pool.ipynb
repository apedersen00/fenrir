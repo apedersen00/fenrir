{
 "cells": [
  {
   "cell_type": "code",
   "execution_count": 50,
   "id": "e4620d90",
   "metadata": {},
   "outputs": [],
   "source": [
    "import tonic\n",
    "import tonic.transforms as tonic_transforms\n",
    "import matplotlib.pyplot as plt\n",
    "from torch.utils.data import DataLoader\n",
    "import torchvision\n",
    "import snntorch as snn\n",
    "from snntorch import surrogate\n",
    "from snntorch import functional as SF\n",
    "from snntorch import spikeplot as splt\n",
    "from snntorch import utils\n",
    "import torch\n",
    "import torch.nn as nn\n",
    "import torch.nn.functional as F\n",
    "import torch.optim as optim"
   ]
  },
  {
   "cell_type": "code",
   "execution_count": 35,
   "id": "dc8029cb",
   "metadata": {},
   "outputs": [],
   "source": [
    "data_path = \"./data/nmnist\""
   ]
  },
  {
   "cell_type": "code",
   "execution_count": 36,
   "id": "c1515dca",
   "metadata": {},
   "outputs": [
    {
     "name": "stdout",
     "output_type": "stream",
     "text": [
      "Number of samples: 60000\n",
      "Number of classes: ['0 - zero', '1 - one', '2 - two', '3 - three', '4 - four', '5 - five', '6 - six', '7 - seven', '8 - eight', '9 - nine']\n",
      "Sample shape: (array([(10, 30,    937, 1), (33, 20,   1030, 1), (12, 27,   1052, 1), ...,\n",
      "       ( 7, 15, 302706, 1), (26, 11, 303852, 1), (11, 17, 305341, 1)],\n",
      "      dtype=[('x', '<i4'), ('y', '<i4'), ('t', '<i4'), ('p', '<i4')]), 0)\n"
     ]
    }
   ],
   "source": [
    "# (Down)load the dataset and print some information\n",
    "\n",
    "dataset = tonic.datasets.NMNIST(\n",
    "    save_to='./data/nmnist',\n",
    "    train=True\n",
    ")\n",
    "\n",
    "print(f\"Number of samples: {len(dataset)}\"\n",
    "      f\"\\nNumber of classes: {dataset.classes}\"\n",
    "      f\"\\nSample shape: {dataset[0]}\")"
   ]
  },
  {
   "cell_type": "code",
   "execution_count": 37,
   "id": "451a2cfa",
   "metadata": {},
   "outputs": [
    {
     "data": {
      "image/png": "[encoded data removed]",
      "text/plain": [
       "<Figure size 640x480 with 5 Axes>"
      ]
     },
     "metadata": {},
     "output_type": "display_data"
    }
   ],
   "source": [
    "# Print some sample \n",
    "\n",
    "sensor_size = tonic.datasets.NMNIST.sensor_size\n",
    "time_bins = 5\n",
    "idx = 1000\n",
    "\n",
    "events, target = dataset[idx]\n",
    "\n",
    "frame_transform = tonic_transforms.ToFrame(\n",
    "    sensor_size=sensor_size,\n",
    "    n_time_bins=time_bins\n",
    ")\n",
    "\n",
    "frames = frame_transform(events)\n",
    "\n",
    "def plot_frames(frames):\n",
    "    fig, axes = plt.subplots(1, len(frames))\n",
    "    for axis, frame in zip(axes, frames):\n",
    "        axis.imshow(frame[1] - frame[0])\n",
    "        axis.axis(\"off\")\n",
    "    plt.tight_layout()\n",
    "\n",
    "\n",
    "plot_frames(frames)"
   ]
  },
  {
   "cell_type": "code",
   "execution_count": 38,
   "id": "e4c10d21",
   "metadata": {},
   "outputs": [],
   "source": [
    "# lets make a transform to make sure only positive events are used\n",
    "class OnlyPositve(object):\n",
    "    def __call__(self, frames):\n",
    "        return frames[:, 1:2, :, :]"
   ]
  },
  {
   "cell_type": "code",
   "execution_count": 39,
   "id": "d4f2749c",
   "metadata": {},
   "outputs": [],
   "source": [
    "# transform compose, train and test datasets + loaders, settings\n",
    "sensor_size = tonic.datasets.NMNIST.sensor_size\n",
    "time_bin_width_us = 1000\n",
    "batch_size = 16\n",
    "\n",
    "frame_transform = tonic_transforms.Compose([\n",
    "    tonic_transforms.ToFrame(sensor_size=sensor_size, time_window=time_bin_width_us),\n",
    "    OnlyPositve()\n",
    "])\n",
    "\n",
    "trainset = tonic.datasets.NMNIST(save_to=data_path, transform=frame_transform, train=True)\n",
    "testset = tonic.datasets.NMNIST(save_to=data_path, transform=frame_transform, train=False)\n",
    "\n",
    "trainloader = DataLoader(trainset, batch_size=batch_size, collate_fn=tonic.collation.PadTensors())"
   ]
  },
  {
   "cell_type": "code",
   "execution_count": 41,
   "id": "fda168e7",
   "metadata": {},
   "outputs": [
    {
     "name": "stdout",
     "output_type": "stream",
     "text": [
      "frames shape: torch.Size([16, 312, 1, 34, 34])\n",
      "targets shape: torch.Size([16])\n"
     ]
    }
   ],
   "source": [
    "# sanity check\n",
    "frames, targets = next(iter(trainloader))\n",
    "print(\"frames shape:\", frames.shape)  # [batch, time, polarity, H, W]\n",
    "print(\"targets shape:\", targets.shape)"
   ]
  },
  {
   "cell_type": "code",
   "execution_count": null,
   "id": "479265ec",
   "metadata": {},
   "outputs": [],
   "source": [
    "class SumPooling2D(nn.Module):\n",
    "    def __init__(\n",
    "            self,\n",
    "            kernel_size: int,\n",
    "            stride: int\n",
    "    ):\n",
    "        super().__init__()\n",
    "        self.kernel_size = kernel_size\n",
    "        self.stride = stride\n",
    "\n",
    "    def forward(self, x: torch.Tensor) -> torch.Tensor:\n",
    "        # get input dimensions\n",
    "        batch_size, num_channels, height, width = x.shape\n",
    "        x_unfold = F.unfold(\n",
    "            x,\n",
    "            kernel_size=self.kernel_size,\n",
    "            stride=self.stride\n",
    "        )\n",
    "        #[batch, channels, window_area, num_windows]\n",
    "\n",
    "        window_area = self.kernel_size ** 2\n",
    "        num_windows = x_unfold.shape[-1]\n",
    "        x_unfold = x_unfold.view(\n",
    "            batch_size,\n",
    "            num_channels,\n",
    "            window_area,\n",
    "            num_windows\n",
    "        )\n",
    "\n",
    "        pooled_sums = x_unfold.sum(dim=2)\n",
    "\n",
    "        height_out = (height - self.kernel_size) // self.stride + 1\n",
    "        width_out = (width - self.kernel_size) // self.stride + 1\n",
    "\n",
    "        pooled_sums_2d = pooled_sums.view(\n",
    "            batch_size,\n",
    "            num_channels,\n",
    "            height_out,\n",
    "            width_out\n",
    "        )\n",
    "\n",
    "        return pooled_sums_2d"
   ]
  },
  {
   "cell_type": "code",
   "execution_count": 46,
   "id": "6a1642a8",
   "metadata": {},
   "outputs": [
    {
     "name": "stdout",
     "output_type": "stream",
     "text": [
      "input shape: torch.Size([2, 3, 6, 6])\n",
      "output shape: torch.Size([2, 3, 3, 3])\n",
      "input: tensor([[[[  0.,   1.,   2.,   3.,   4.,   5.],\n",
      "          [  6.,   7.,   8.,   9.,  10.,  11.],\n",
      "          [ 12.,  13.,  14.,  15.,  16.,  17.],\n",
      "          [ 18.,  19.,  20.,  21.,  22.,  23.],\n",
      "          [ 24.,  25.,  26.,  27.,  28.,  29.],\n",
      "          [ 30.,  31.,  32.,  33.,  34.,  35.]],\n",
      "\n",
      "         [[ 36.,  37.,  38.,  39.,  40.,  41.],\n",
      "          [ 42.,  43.,  44.,  45.,  46.,  47.],\n",
      "          [ 48.,  49.,  50.,  51.,  52.,  53.],\n",
      "          [ 54.,  55.,  56.,  57.,  58.,  59.],\n",
      "          [ 60.,  61.,  62.,  63.,  64.,  65.],\n",
      "          [ 66.,  67.,  68.,  69.,  70.,  71.]],\n",
      "\n",
      "         [[ 72.,  73.,  74.,  75.,  76.,  77.],\n",
      "          [ 78.,  79.,  80.,  81.,  82.,  83.],\n",
      "          [ 84.,  85.,  86.,  87.,  88.,  89.],\n",
      "          [ 90.,  91.,  92.,  93.,  94.,  95.],\n",
      "          [ 96.,  97.,  98.,  99., 100., 101.],\n",
      "          [102., 103., 104., 105., 106., 107.]]],\n",
      "\n",
      "\n",
      "        [[[108., 109., 110., 111., 112., 113.],\n",
      "          [114., 115., 116., 117., 118., 119.],\n",
      "          [120., 121., 122., 123., 124., 125.],\n",
      "          [126., 127., 128., 129., 130., 131.],\n",
      "          [132., 133., 134., 135., 136., 137.],\n",
      "          [138., 139., 140., 141., 142., 143.]],\n",
      "\n",
      "         [[144., 145., 146., 147., 148., 149.],\n",
      "          [150., 151., 152., 153., 154., 155.],\n",
      "          [156., 157., 158., 159., 160., 161.],\n",
      "          [162., 163., 164., 165., 166., 167.],\n",
      "          [168., 169., 170., 171., 172., 173.],\n",
      "          [174., 175., 176., 177., 178., 179.]],\n",
      "\n",
      "         [[180., 181., 182., 183., 184., 185.],\n",
      "          [186., 187., 188., 189., 190., 191.],\n",
      "          [192., 193., 194., 195., 196., 197.],\n",
      "          [198., 199., 200., 201., 202., 203.],\n",
      "          [204., 205., 206., 207., 208., 209.],\n",
      "          [210., 211., 212., 213., 214., 215.]]]])\n",
      "output: tensor([[[[ 14.,  22.,  30.],\n",
      "          [ 62.,  70.,  78.],\n",
      "          [110., 118., 126.]],\n",
      "\n",
      "         [[158., 166., 174.],\n",
      "          [206., 214., 222.],\n",
      "          [254., 262., 270.]],\n",
      "\n",
      "         [[302., 310., 318.],\n",
      "          [350., 358., 366.],\n",
      "          [398., 406., 414.]]],\n",
      "\n",
      "\n",
      "        [[[446., 454., 462.],\n",
      "          [494., 502., 510.],\n",
      "          [542., 550., 558.]],\n",
      "\n",
      "         [[590., 598., 606.],\n",
      "          [638., 646., 654.],\n",
      "          [686., 694., 702.]],\n",
      "\n",
      "         [[734., 742., 750.],\n",
      "          [782., 790., 798.],\n",
      "          [830., 838., 846.]]]])\n"
     ]
    }
   ],
   "source": [
    "# test the pooling layer\n",
    "x = torch.arange(2*3*6*6).view(2, 3, 6, 6).float()\n",
    "sum_pool = SumPooling2D(kernel_size=2, stride=2)\n",
    "output = sum_pool(x)\n",
    "\n",
    "print(\"input shape:\", x.shape)\n",
    "print(\"output shape:\", output.shape)\n",
    "print(\"input:\", x)\n",
    "print(\"output:\", output)"
   ]
  },
  {
   "cell_type": "code",
   "execution_count": 49,
   "id": "e3ef2956",
   "metadata": {},
   "outputs": [],
   "source": [
    "class Net(nn.Module):\n",
    "    def __init__(\n",
    "            self,\n",
    "            in_channels: int,\n",
    "            out_channels: int,\n",
    "            num_classes: int,\n",
    "            kernel_size_conv: int,\n",
    "            kernel_size_pool: int,\n",
    "            stride_pool: int,\n",
    "            pool_threshold: float,\n",
    "            neuron_threshold: float,\n",
    "            neuron_reset_value: float,\n",
    "            decay: float\n",
    "    ): \n",
    "        super().__init__()\n",
    "        self.conv = nn.Conv2d(\n",
    "            in_channels=in_channels,\n",
    "            out_channels=num_classes,\n",
    "            kernel_size=kernel_size_conv,\n",
    "            stride=1,\n",
    "            padding=0\n",
    "        )\n",
    "        self.sum_pool = SumPooling2D(\n",
    "            kernel_size=kernel_size_pool,\n",
    "            stride=stride_pool\n",
    "        )\n",
    "        self.neuron_threshold = neuron_threshold\n",
    "        self.pool_threshold = pool_threshold\n",
    "        self.decay = decay\n",
    "        self.neuron_reset_value = neuron_reset_value\n",
    "    \n",
    "    def forward(self, input_sequence):\n",
    "        batch_size, num_steps, _, height, width = input_sequence.shape\n",
    "        device = input_sequence.device\n",
    "\n",
    "        conv_out = self.conv(input_sequence[:,0])\n",
    "        _, num_classes, conv_h, conv_w = conv_out.shape\n",
    "\n",
    "        membrane = torch.zeros(batch_size, num_classes, conv_h, conv_w, device=device)\n",
    "        spike_trains = []\n",
    "\n",
    "        for t in range(num_steps):\n",
    "            #convolution\n",
    "            conv_out = self.conv(input_sequence[:,t])\n",
    "\n",
    "            #membrane update\n",
    "            membrane = membrane - self.decay + conv_out\n",
    "\n",
    "            #pooling for output spikes\n",
    "            pooled_sums = self.sum_pool(membrane)\n",
    "            spikes = (pooled_sums >= self.pool_threshold)\n",
    "            spike_trains.append(spikes)\n",
    "\n",
    "            #membrane thresholding\n",
    "            reset_mask = membrane >= self.neuron_threshold\n",
    "            membrane = membrane.masked_fill(reset_mask, self.neuron_reset_value)\n",
    "\n",
    "        spike_trains = torch.stack(spike_trains, dim=0)\n",
    "        spike_trains = spike_trains.permute(1, 0, 2, 3, 4)\n",
    "        # [batch, time, num_classes, height, width]\n",
    "        class_scores = spike_trains.sum(dim=(1,3,4)).float()\n",
    "        return class_scores"
   ]
  },
  {
   "cell_type": "code",
   "execution_count": 52,
   "id": "190d2e4e",
   "metadata": {},
   "outputs": [
    {
     "name": "stdout",
     "output_type": "stream",
     "text": [
      "Using device: cuda\n"
     ]
    }
   ],
   "source": [
    "device = torch.device(\"cuda\" if torch.cuda.is_available() else \"cpu\")\n",
    "print(\"Using device:\", device)"
   ]
  },
  {
   "cell_type": "code",
   "execution_count": 53,
   "id": "4d02b19a",
   "metadata": {},
   "outputs": [],
   "source": [
    "model = Net(\n",
    "    in_channels=1,\n",
    "    out_channels=10,              # or just num_classes=10 if out_channels unused\n",
    "    num_classes=10,\n",
    "    kernel_size_conv=3,\n",
    "    kernel_size_pool=2,\n",
    "    stride_pool=2,\n",
    "    pool_threshold=3.0,\n",
    "    neuron_threshold=1.0,\n",
    "    neuron_reset_value=0.0,\n",
    "    decay=0.95\n",
    ").to(device)\n",
    "\n",
    "criterion = nn.CrossEntropyLoss()\n",
    "optimizer = optim.Adam(model.parameters(), lr=1e-3)"
   ]
  },
  {
   "cell_type": "code",
   "execution_count": null,
   "id": "3096fca0",
   "metadata": {},
   "outputs": [],
   "source": [
    "model.train()\n",
    "total_loss = 0\n",
    "total_correct = 0\n",
    "total_samples = 0\n",
    "\n",
    "for frames, targets in train_loader:\n",
    "    frames, targets = frames.to(device), targets.to(device)\n",
    "    optimizer.zero_grad()\n",
    "\n",
    "    # Forward pass\n",
    "    class_scores = model(frames)  # [batch, num_classes]\n",
    "\n",
    "    # Loss\n",
    "    loss = criterion(class_scores, targets)\n",
    "    loss.backward()\n",
    "    optimizer.step()\n",
    "\n",
    "    total_loss += loss.item() * frames.size(0)\n",
    "    # Compute predictions\n",
    "    preds = class_scores.argmax(dim=1)\n",
    "    total_correct += (preds == targets).sum().item()\n",
    "    total_samples += frames.size(0)\n",
    "\n",
    "print(f\"Epoch 1 finished: Loss = {total_loss / total_samples:.4f}, \"\n",
    "      f\"Accuracy = {total_correct / total_samples:.4f}\")\n"
   ]
  }
 ],
 "metadata": {
  "kernelspec": {
   "display_name": "snn-conv",
   "language": "python",
   "name": "python3"
  },
  "language_info": {
   "codemirror_mode": {
    "name": "ipython",
    "version": 3
   },
   "file_extension": ".py",
   "mimetype": "text/x-python",
   "name": "python",
   "nbconvert_exporter": "python",
   "pygments_lexer": "ipython3",
   "version": "3.9.21"
  }
 },
 "nbformat": 4,
 "nbformat_minor": 5
}
