{
 "cells": [
  {
   "cell_type": "markdown",
   "metadata": {},
   "source": [
    "# BRAM Data Generation\n",
    "\n",
    "The BRAM data initialization files must be in `bit vector form`. This notebook contains tools for generating such a file.\n",
    "\n",
    "The file should be placed in `design_sources`."
   ]
  },
  {
   "cell_type": "markdown",
   "metadata": {},
   "source": [
    "## Imports"
   ]
  },
  {
   "cell_type": "code",
   "execution_count": 1,
   "metadata": {},
   "outputs": [],
   "source": [
    "import os\n",
    "import sys\n",
    "\n",
    "import numpy as np"
   ]
  },
  {
   "cell_type": "markdown",
   "metadata": {},
   "source": [
    "## Functions"
   ]
  },
  {
   "cell_type": "code",
   "execution_count": 2,
   "metadata": {},
   "outputs": [],
   "source": [
    "def generate_bitvector_file(filename, num_words, data, word_size=32):\n",
    "    \"\"\"\n",
    "    Generates a bitvector file with the given data in array form.\n",
    "\n",
    "    Args:\n",
    "        filename: The name of the file to write to.\n",
    "        num_words: The number of words in the file.\n",
    "        data: The array of data to write to the file.\n",
    "        word_size: The number of bits in each word.\n",
    "    \"\"\"\n",
    "    dir = abs_path(filename)\n",
    "    with open(dir, \"w\") as f:\n",
    "        for i in range(num_words):\n",
    "            bitvector = format(data[i], f'0{word_size}b')\n",
    "            f.write(str(bitvector) + \"\\n\")\n",
    "    return\n",
    "\n",
    "def abs_path(filename):\n",
    "    return os.path.join(os.path.dirname(os.path.abspath('')), filename)"
   ]
  },
  {
   "cell_type": "markdown",
   "metadata": {},
   "source": [
    "## User Code"
   ]
  },
  {
   "cell_type": "code",
   "execution_count": null,
   "metadata": {},
   "outputs": [],
   "source": [
    "# Generate data file with repeating pattert\n",
    "\n",
    "# Generate array of data\n",
    "data = np.zeros(256, dtype=np.uint32)\n",
    "\n",
    "for i in range(256):\n",
    "    data[i] = 0xAAAAAAAA\n",
    "\n",
    "filename = \"neuron_memory_init.data\"\n",
    "\n",
    "# Generate bitvector file\n",
    "generate_bitvector_file(filename, 256, data)"
   ]
  },
  {
   "cell_type": "code",
   "execution_count": null,
   "metadata": {},
   "outputs": [],
   "source": [
    "# Generate data file with repeating pattert and incrementing last byte\n",
    "\n",
    "# Generate array of data\n",
    "data = np.zeros(256, dtype=np.uint32)\n",
    "\n",
    "for i in range(256):\n",
    "    data[i] = (0xFAFAFAFA & 0xFFFFFF00) | (i & 0xFF)\n",
    "\n",
    "filename = \"neuron_memory_init.data\"\n",
    "\n",
    "# Generate bitvector file\n",
    "generate_bitvector_file(filename, 256, data)"
   ]
  },
  {
   "cell_type": "code",
   "execution_count": null,
   "metadata": {},
   "outputs": [],
   "source": [
    "# Generate neuron memory data\n",
    "\n",
    "# | Size     | Bits | Parameter      |\n",
    "# | -------- | ---- | -------------- |\n",
    "# | [0, 6]   | 7    | param_leak_str |\n",
    "# | [7, 18]  | 12   | param_thr      |\n",
    "# | [19, 30] | 12   | state_core     |\n",
    "\n",
    "# Generate array of data\n",
    "data = np.zeros(256, dtype=np.uint32)\n",
    "\n",
    "param_leak_str  = 0b0000001\n",
    "param_thr       = 0b000000001000\n",
    "state_core      = 0b000000000000\n",
    "\n",
    "for i in range(256):\n",
    "    data[i] = (state_core << 19) | (param_thr << 7) | (param_leak_str << 0)\n",
    "\n",
    "filename = \"../src/design_sources/data/nrn_init.data\"\n",
    "\n",
    "# Generate bitvector file\n",
    "generate_bitvector_file(filename, 256, data)"
   ]
  },
  {
   "cell_type": "code",
   "execution_count": null,
   "metadata": {},
   "outputs": [],
   "source": [
    "# Generate synapse memory data\n",
    "\n",
    "# Generate array of data\n",
    "data = np.zeros(65535, dtype=np.uint32)\n",
    "\n",
    "weight = 0b0001\n",
    "\n",
    "for i in range(256):\n",
    "    # There must be a smarter way to do this?\n",
    "    data[i] = (weight << 28) | (weight << 24) | (weight << 20) | (weight << 16) | \\\n",
    "              (weight << 12) | (weight << 8) | (weight << 4) | weight\n",
    "\n",
    "filename = \"../src/design_sources/data/syn_init.data\"\n",
    "\n",
    "# Generate bitvector file\n",
    "generate_bitvector_file(filename, 256, data)"
   ]
  },
  {
   "cell_type": "code",
   "execution_count": 3,
   "metadata": {},
   "outputs": [],
   "source": [
    "# Generate synapse memory data\n",
    "\n",
    "# Generate array of data\n",
    "data = np.zeros(1280, dtype=np.uint32)\n",
    "\n",
    "arr_0 = 0b10001001100010011000100110001001 # 0x89898989\n",
    "arr_1 = 0b10101011101010111010101110101011 # 0xABABABAB\n",
    "arr_2 = 0b11001101110011011100110111001101 # 0xCDCDCDCD\n",
    "arr_3 = 0b11101111111011111110111111101111 # 0xEFEFEFEF\n",
    "\n",
    "j = 0\n",
    "for i in range(1280):\n",
    "    if j == 0:\n",
    "        data[i] = arr_0\n",
    "    elif j == 1:\n",
    "        data[i] = arr_1\n",
    "    elif j == 2:\n",
    "        data[i] = arr_2\n",
    "    elif j == 3:\n",
    "        data[i] = arr_3\n",
    "    if j == 3:\n",
    "        j = 0\n",
    "    else:\n",
    "        j += 1\n",
    "\n",
    "filename = \"../src/design_sources/data/syn_init.data\"\n",
    "\n",
    "# Generate bitvector file\n",
    "generate_bitvector_file(filename, 1280, data)"
   ]
  },
  {
   "cell_type": "code",
   "execution_count": 12,
   "metadata": {},
   "outputs": [],
   "source": [
    "# Generate input memory data\n",
    "\n",
    "# Generate array of data\n",
    "data = np.zeros(256, dtype=np.uint32)\n",
    "\n",
    "for i in range(256):\n",
    "    # Checkerboard pattern for testing\n",
    "    data[i] = 0b10101010101010101010101010101010\n",
    "\n",
    "filename = \"../src/design_sources/data/ibf_init.data\"\n",
    "\n",
    "# Generate bitvector file\n",
    "generate_bitvector_file(filename, 256, data)"
   ]
  }
 ],
 "metadata": {
  "kernelspec": {
   "display_name": ".venv",
   "language": "python",
   "name": "python3"
  },
  "language_info": {
   "codemirror_mode": {
    "name": "ipython",
    "version": 3
   },
   "file_extension": ".py",
   "mimetype": "text/x-python",
   "name": "python",
   "nbconvert_exporter": "python",
   "pygments_lexer": "ipython3",
   "version": "3.12.0"
  }
 },
 "nbformat": 4,
 "nbformat_minor": 2
}
