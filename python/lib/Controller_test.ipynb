{
 "cells": [
  {
   "cell_type": "code",
   "execution_count": null,
   "metadata": {},
   "outputs": [],
   "source": [
    "from Controller import *\n",
    "from hwcomponents import *"
   ]
  },
  {
   "cell_type": "code",
   "execution_count": null,
   "metadata": {},
   "outputs": [],
   "source": [
    "test_settings = VortexSetings(\n",
    "    amount_neurons=10,\n",
    "    amount_synapses=10,\n",
    "    amount_samples=50,\n",
    "    neuron=Neurons.LIF()\n",
    ")"
   ]
  },
  {
   "cell_type": "code",
   "execution_count": null,
   "metadata": {},
   "outputs": [],
   "source": [
    "# Print input data\n",
    "Utils.Plotting.input_data_as_heatmap(test_settings.InputData)"
   ]
  },
  {
   "cell_type": "code",
   "execution_count": null,
   "metadata": {},
   "outputs": [],
   "source": [
    "Controller = VortexOne(test_settings)"
   ]
  },
  {
   "cell_type": "code",
   "execution_count": null,
   "metadata": {},
   "outputs": [],
   "source": [
    "Controller.neurons"
   ]
  },
  {
   "cell_type": "code",
   "execution_count": null,
   "metadata": {},
   "outputs": [],
   "source": [
    "Controller.synapses"
   ]
  },
  {
   "cell_type": "code",
   "execution_count": null,
   "metadata": {},
   "outputs": [],
   "source": [
    "for neuron in Controller.neurons:\n",
    "    print(neuron)"
   ]
  },
  {
   "cell_type": "code",
   "execution_count": null,
   "metadata": {},
   "outputs": [],
   "source": [
    "Controller.simulate()"
   ]
  },
  {
   "cell_type": "code",
   "execution_count": null,
   "metadata": {},
   "outputs": [],
   "source": [
    "for neuron in Controller.neurons:\n",
    "    print(neuron)"
   ]
  },
  {
   "cell_type": "code",
   "execution_count": null,
   "metadata": {},
   "outputs": [],
   "source": [
    "log = np.array(Controller.log)\n",
    "log.shape\n"
   ]
  },
  {
   "cell_type": "code",
   "execution_count": null,
   "metadata": {},
   "outputs": [],
   "source": [
    "data = log\n",
    "\n",
    "# Create the figure and axes\n",
    "fig, axes = plt.subplots(10, 1, figsize=(10, 15), sharex=True)\n",
    "\n",
    "# Plot each core's values over time and add spike event markers\n",
    "for i in range(10):\n",
    "    axes[i].plot(data[:, i, 0], color='orange')\n",
    "    \n",
    "    # Add vertical lines for spike events\n",
    "    spike_indices = np.where(data[:, i, 1] == 1)[0]\n",
    "    for idx in spike_indices:\n",
    "        axes[i].axvline(x=idx, color='red', linestyle='--', alpha=0.7)\n",
    "    \n",
    "    axes[i].set_ylabel(f\"Neuron {i}\")\n",
    "\n",
    "axes[-1].set_xlabel(\"Sample Index\")\n",
    "\n",
    "# Adjust layout for readability\n",
    "plt.tight_layout()\n",
    "plt.show()\n"
   ]
  },
  {
   "cell_type": "code",
   "execution_count": null,
   "metadata": {},
   "outputs": [],
   "source": [
    "import numpy as np\n",
    "import matplotlib.pyplot as plt\n",
    "from matplotlib import animation\n",
    "from IPython.display import HTML\n",
    "\n",
    "# Assume 'data' is already defined and has shape (40, 10, 2)\n",
    "\n",
    "# Enable inline plotting with animation support\n",
    "%matplotlib inline\n",
    "from IPython.display import HTML\n",
    "\n",
    "# Create figure and axes for animation\n",
    "fig, axes = plt.subplots(10, 1, figsize=(10, 15), sharex=True)\n",
    "lines = []\n",
    "\n",
    "# Initialize plot lines\n",
    "for i in range(10):\n",
    "    line, = axes[i].plot([], [], color='orange')\n",
    "    lines.append(line)\n",
    "    axes[i].set_xlim(0, 39)  # Fixed x-axis range for 40 data points\n",
    "    axes[i].set_ylim(data[:, i, 0].min() - 0.1, data[:, i, 0].max() + 0.1)\n",
    "    axes[i].set_ylabel(f\"Neuron {i}\")\n",
    "\n",
    "axes[-1].set_xlabel(\"Sample Index\")\n",
    "plt.tight_layout()\n",
    "\n",
    "# Animation update function\n",
    "def update(frame):\n",
    "    # First update all the lines\n",
    "    for i in range(10):\n",
    "        lines[i].set_data(np.arange(frame + 1), data[:frame + 1, i, 0])\n",
    "    \n",
    "    # Clear old spike markers and add new ones for the current frame\n",
    "    for i, ax in enumerate(axes):\n",
    "        # Remove all vertical lines (spike markers)\n",
    "        for line in ax.lines[1:]:  # Skip the first line which is the data plot\n",
    "            line.remove()\n",
    "            \n",
    "        # Add new spike markers up to current frame\n",
    "        spike_indices = np.where(data[:frame + 1, i, 1] == 1)[0]\n",
    "        for idx in spike_indices:\n",
    "            ax.axvline(x=idx, color='red', linestyle='--', alpha=0.7)\n",
    "    \n",
    "    return lines\n",
    "\n",
    "# Create animation\n",
    "anim = animation.FuncAnimation(\n",
    "    fig, \n",
    "    update, \n",
    "    frames=40, \n",
    "    interval=200, \n",
    "    blit=False\n",
    ")\n",
    "\n",
    "# Display animation in the notebook\n",
    "HTML(anim.to_jshtml())"
   ]
  },
  {
   "cell_type": "code",
   "execution_count": null,
   "metadata": {},
   "outputs": [],
   "source": [
    "anim.save('core_animation.gif', writer='pillow', fps=5)"
   ]
  }
 ],
 "metadata": {
  "kernelspec": {
   "display_name": ".venv",
   "language": "python",
   "name": "python3"
  },
  "language_info": {
   "codemirror_mode": {
    "name": "ipython",
    "version": 3
   },
   "file_extension": ".py",
   "mimetype": "text/x-python",
   "name": "python",
   "nbconvert_exporter": "python",
   "pygments_lexer": "ipython3",
   "version": "3.11.9"
  }
 },
 "nbformat": 4,
 "nbformat_minor": 2
}
