{
 "cells": [
  {
   "cell_type": "code",
   "execution_count": null,
   "metadata": {},
   "outputs": [],
   "source": [
    "import numpy as np\n",
    "from hwcomponents import DataStructures as ds \n",
    "from hwcomponents import Utils"
   ]
  },
  {
   "cell_type": "code",
   "execution_count": null,
   "metadata": {},
   "outputs": [],
   "source": [
    "# Test Neuron datastructure\n",
    "ds.Neuron(\n",
    "    param_leak_str=1,\n",
    "    param_threshold=20,\n",
    "    param_reset=0,\n",
    "    state_core=0\n",
    ")"
   ]
  },
  {
   "cell_type": "code",
   "execution_count": null,
   "metadata": {},
   "outputs": [],
   "source": [
    "# Test Synapse datastructure\n",
    "ds.Synapse(\n",
    "    length=10,\n",
    "    word_size=np.uint8\n",
    ")"
   ]
  },
  {
   "cell_type": "code",
   "execution_count": null,
   "metadata": {},
   "outputs": [],
   "source": [
    "# ex of random neuron generator\n",
    "def random_neuron() -> ds.Neuron:\n",
    "    return ds.Neuron(\n",
    "        param_leak_str=Utils.DiscreteNORM(2**3, 2, 0, 2**5),\n",
    "        param_threshold=Utils.DiscreteNORM(2**6, 2**3, 0, 2**11),\n",
    "        state_core=0,\n",
    "        param_reset=Utils.DiscreteNORM(4., 1., 0, 2**3)\n",
    "    )\n",
    "\n",
    "random_neuron()"
   ]
  },
  {
   "cell_type": "code",
   "execution_count": null,
   "metadata": {},
   "outputs": [],
   "source": [
    "# ex of BRAM with random neurons\n",
    "from hwcomponents import BRAM as bram\n",
    "\n",
    "amount_of_neurons = 10\n",
    "neuron_generator = lambda: random_neuron()\n",
    "\n",
    "example_bram_for_neurons = bram.Neurons(\n",
    "    length=amount_of_neurons,\n",
    "    randomize_fun=neuron_generator\n",
    ")\n",
    "\n",
    "for i in range(example_bram_for_neurons.length):\n",
    "    print(example_bram_for_neurons[i])"
   ]
  },
  {
   "cell_type": "code",
   "execution_count": null,
   "metadata": {},
   "outputs": [],
   "source": [
    "# ex of random synapse generator\n",
    "# generate a synapse register for one neuron. \n",
    "# in this case it generates a 2-bit synaptic weight (0..3 in decimal)\n",
    "\n",
    "def random_synapse(depth: int) -> ds.Synapse:\n",
    "    temp_synapse = ds.Synapse(depth, np.int8)\n",
    "    for i in range(depth):\n",
    "        temp_synapse[i] = Utils.DiscreteNORM(0.5, 1., 0, 3)\n",
    "    return temp_synapse"
   ]
  },
  {
   "cell_type": "code",
   "execution_count": null,
   "metadata": {},
   "outputs": [],
   "source": [
    "# ex of BRAM with random synapses, lets make 10 synapses for 10 neurons\n",
    "from hwcomponents import BRAM as bram\n",
    "amount_of_synapses = amount_of_neurons = 10\n",
    "\n",
    "example_of_bram_for_synapses = bram.Synapses(\n",
    "    length=amount_of_neurons,\n",
    "    depth=amount_of_synapses,\n",
    "    word_size=np.int8,\n",
    "    randomize_fun=random_synapse #the generator function must have a depth parameter\n",
    ")\n",
    "for i in range(example_of_bram_for_synapses.length):\n",
    "    print(example_of_bram_for_synapses[i])"
   ]
  },
  {
   "cell_type": "code",
   "execution_count": null,
   "metadata": {},
   "outputs": [],
   "source": [
    "# LIF example\n",
    "from hwcomponents import Neurons as N\n",
    "active_neuron = N.LIF() # Lif neuron object \n",
    "\n",
    "# Update Neuron state, expects a DataStructures.Neuron object\n",
    "# Lets grab one of the previously generated neurons\n",
    "neuron_idx, weight_idx = 0, 5\n",
    "\n",
    "neurons = example_bram_for_neurons\n",
    "synapses = example_of_bram_for_synapses\n",
    "\n",
    "active_neuron.change_neuron(neuron=neurons[0])\n",
    "active_neuron.change_weight(synapses[neuron_idx][weight_idx])\n",
    "Utils.Print.PrettyNeuron(neurons[0])\n",
    "print(\"\\nSynapse weight: \", synapses[neuron_idx][weight_idx], \"\\n\")\n",
    "\n",
    "# Simulate Spike event on input synapse\n",
    "active_neuron.forward(\n",
    "    input = 1\n",
    ")\n",
    "\n",
    "# Print the updated neuron\n",
    "Utils.Print.PrettyNeuron(neurons[0])"
   ]
  },
  {
   "cell_type": "code",
   "execution_count": null,
   "metadata": {},
   "outputs": [],
   "source": [
    "# Lets manage some inputs. They are in the DataStructures namespace\n",
    "from hwcomponents import DataStructures as ds\n",
    "\n",
    "# Lets make a random generator\n",
    "def random_input_sample(length: int) -> np.array:\n",
    "    return np.array([\n",
    "        Utils.DiscreteNORM(.1, .5, -1, 1) for _ in range(length)\n",
    "    ])\n",
    "\n",
    "# Lets make a random input sample\n",
    "\n",
    "ex_sample = ds.InputSample(\n",
    "    length=10,\n",
    "    randomize_fun=random_input_sample\n",
    ")\n",
    "\n",
    "print(ex_sample)"
   ]
  },
  {
   "cell_type": "code",
   "execution_count": null,
   "metadata": {},
   "outputs": [],
   "source": [
    "# We can subclass the InputSample class to make a custom input sample\n",
    "# We can put our inputsamples into collections\n",
    "from typing import Callable\n",
    "\n",
    "def generate_random_samples(\n",
    "        amount_of_samples: int,\n",
    "        sample_length: int,\n",
    "        sample_random_gen: Callable[[int], np.ndarray]\n",
    "):\n",
    "    data_collection = ds.InputData() # instantiate the data wrapper\n",
    "    for _ in range(amount_of_samples):\n",
    "        data_collection.add_sample(\n",
    "            ds.InputSample(sample_length, randomize_fun=sample_random_gen)\n",
    "        )\n",
    "    return data_collection\n",
    "\n",
    "test_data = generate_random_samples(10, 10, random_input_sample)\n",
    "\n",
    "# lets make a heatmap of the data\n",
    "for i in range(len(test_data)):\n",
    "    print(test_data[i])\n"
   ]
  },
  {
   "cell_type": "code",
   "execution_count": null,
   "metadata": {},
   "outputs": [],
   "source": [
    "Utils.Plotting.input_data_as_heatmap(test_data)"
   ]
  }
 ],
 "metadata": {
  "kernelspec": {
   "display_name": ".venv",
   "language": "python",
   "name": "python3"
  },
  "language_info": {
   "codemirror_mode": {
    "name": "ipython",
    "version": 3
   },
   "file_extension": ".py",
   "mimetype": "text/x-python",
   "name": "python",
   "nbconvert_exporter": "python",
   "pygments_lexer": "ipython3",
   "version": "3.11.9"
  }
 },
 "nbformat": 4,
 "nbformat_minor": 2
}
