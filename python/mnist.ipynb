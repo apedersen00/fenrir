{
 "cells": [
  {
   "cell_type": "markdown",
   "metadata": {},
   "source": [
    "# Quantized SNN for MNIST"
   ]
  },
  {
   "cell_type": "markdown",
   "metadata": {},
   "source": [
    "## Imports"
   ]
  },
  {
   "cell_type": "code",
   "execution_count": null,
   "metadata": {},
   "outputs": [],
   "source": [
    "# SNN\n",
    "import snntorch as snn\n",
    "from snntorch import surrogate\n",
    "from snntorch import functional as SF\n",
    "from snntorch.functional import quant\n",
    "from snntorch import utils\n",
    "from snntorch import spikeplot as splt\n",
    "from snntorch import spikegen\n",
    "\n",
    "# Quantization\n",
    "import brevitas.nn as qnn\n",
    "\n",
    "# Torch\n",
    "import torch\n",
    "from torch import nn\n",
    "from torch.nn import Module\n",
    "import torch.nn.functional as F\n",
    "from torch.utils.data import DataLoader\n",
    "from torchvision import datasets, transforms\n",
    "\n",
    "# Other\n",
    "import matplotlib.pyplot as plt\n",
    "import numpy as np\n",
    "import os"
   ]
  },
  {
   "cell_type": "markdown",
   "metadata": {},
   "source": [
    "## 1. Setting up MNIST"
   ]
  },
  {
   "cell_type": "code",
   "execution_count": null,
   "metadata": {},
   "outputs": [],
   "source": [
    "batch_size = 128\n",
    "data_path  = './data/mnist'\n",
    "num_class  = 10"
   ]
  },
  {
   "cell_type": "markdown",
   "metadata": {},
   "source": [
    "### 1.1 Download Dataset"
   ]
  },
  {
   "cell_type": "code",
   "execution_count": null,
   "metadata": {},
   "outputs": [],
   "source": [
    "transform = transforms.Compose([\n",
    "    transforms.Resize((32, 32)),\n",
    "    transforms.Grayscale(),\n",
    "    transforms.ToTensor(),\n",
    "    transforms.Normalize((0,), (1,))\n",
    "])\n",
    "\n",
    "mnist_train = datasets.MNIST(data_path, train=True, download=True, transform=transform)\n",
    "mnist_test = datasets.MNIST(data_path, train=False, download=True, transform=transform)\n",
    "\n",
    "# Make a sanity check plot\n",
    "fig, axs = plt.subplots(1, 3, figsize=(9, 3))\n",
    "for i in range(3):\n",
    "    image, label = mnist_train[i]\n",
    "    axs[i].imshow(image.squeeze(0).numpy(), cmap=\"gray\")\n",
    "    axs[i].set_title(f\"Label: {label}\")"
   ]
  },
  {
   "cell_type": "markdown",
   "metadata": {},
   "source": [
    "### 1.2 Dataloader and Spike Encoding"
   ]
  },
  {
   "cell_type": "code",
   "execution_count": null,
   "metadata": {},
   "outputs": [],
   "source": [
    "# Create dataloader\n",
    "train_loader = DataLoader(mnist_train, batch_size=batch_size, shuffle=True)\n",
    "test_loader = DataLoader(mnist_test, batch_size=batch_size, shuffle=False)\n",
    "\n",
    "# --- The rest in this cell is just to show how to encode data into spikes ---\n",
    "\n",
    "# Fetch a batch of data\n",
    "data = iter(train_loader)\n",
    "data_it, targets_it = next(data)\n",
    "\n",
    "# Encode it into spikes\n",
    "#   - linear, normalize, clip are IMPORTANT for the spikegen.latency function\n",
    "#     details here: https://snntorch.readthedocs.io/en/latest/tutorials/tutorial_1.html\n",
    "spike_data = spikegen.latency(data_it, num_steps=100, tau=5, threshold=0.01, linear=True, normalize=True, clip=True)\n",
    "\n",
    "# Plot to keep me sane\n",
    "fig = plt.figure(facecolor=\"w\", figsize=(12, 3))\n",
    "ax = fig.add_subplot(111)\n",
    "splt.raster(spike_data[:, 0].view(100, -1), ax, s=25, c=\"black\")\n",
    "plt.title(\"Input Layer\")\n",
    "plt.xlabel(\"Time step\")\n",
    "plt.ylabel(\"Neuron Number\")\n",
    "plt.show()"
   ]
  },
  {
   "cell_type": "markdown",
   "metadata": {},
   "source": [
    "### 1.3 Network Definition"
   ]
  },
  {
   "cell_type": "code",
   "execution_count": null,
   "metadata": {},
   "outputs": [],
   "source": [
    "config = {\n",
    "    \"num_epochs\": 1,       # Number of epochs to train for (per trial)\n",
    "    \"batch_size\": 128,      # Batch size\n",
    "    \"seed\": 0,              # Random seed\n",
    "    \n",
    "    # Quantization\n",
    "    \"num_bits\": 4,          # Bit resolution\n",
    "    \n",
    "    # Network parameters\n",
    "    \"grad_clip\": False,     # Whether or not to clip gradients\n",
    "    \"weight_clip\": False,   # Whether or not to clip weights\n",
    "    \"batch_norm\": True,     # Whether or not to use batch normalization\n",
    "    \"dropout\": 0.07,        # Dropout rate\n",
    "    \"beta\": 1.00,           # Decay rate parameter (beta)\n",
    "    \"threshold\": 30,        # Threshold parameter (theta)\n",
    "    \"lr\": 3.0e-3,           # Initial learning rate\n",
    "    \"slope\": 5.6,           # Slope value (k)\n",
    "    \n",
    "    # Fixed params\n",
    "    \"num_steps\": 100,       # Number of timesteps to encode input for\n",
    "    \"correct_rate\": 0.8,    # Correct rate\n",
    "    \"incorrect_rate\": 0.2,  # Incorrect rate\n",
    "    \"betas\": (0.9, 0.999),  # Adam optimizer beta values\n",
    "    \"t_0\": 4690,            # Initial frequency of the cosine annealing scheduler\n",
    "    \"eta_min\": 0,           # Minimum learning rate\n",
    "}"
   ]
  },
  {
   "cell_type": "code",
   "execution_count": null,
   "metadata": {},
   "outputs": [],
   "source": [
    "device = torch.device(\"cuda\") if torch.cuda.is_available() else torch.device(\"cpu\")\n",
    "\n",
    "class Net(nn.Module):\n",
    "    def __init__(self, config):\n",
    "        super().__init__()\n",
    "        self.num_bits   = config[\"num_bits\"]\n",
    "        self.thr        = config[\"threshold\"]\n",
    "        self.slope      = config[\"slope\"]\n",
    "        self.beta       = config[\"beta\"]\n",
    "        self.num_steps  = config[\"num_steps\"]\n",
    "        self.batch_norm = config[\"batch_norm\"]\n",
    "        self.p1         = config[\"dropout\"]\n",
    "        self.spike_grad = surrogate.fast_sigmoid(self.slope)\n",
    "        \n",
    "        # Initialize Layers\n",
    "        self.fc1        = qnn.QuantLinear(32*32, 10, bias=False, weight_bit_width=self.num_bits)\n",
    "        self.lif1       = snn.Leaky(self.beta, threshold=self.thr, spike_grad=self.spike_grad)\n",
    "        self.dropout    = nn.Dropout(self.p1)\n",
    "\n",
    "    def forward(self, x):\n",
    "        # Flatten the input\n",
    "        # x = x.view(x.size(0), -1)\n",
    "        \n",
    "        # Initialize hidden states and outputs at t=0\n",
    "        mem1 = self.lif1.init_leaky()\n",
    "        \n",
    "        # Record the final layer\n",
    "        spk_rec = []\n",
    "        mem_rec = []\n",
    "        for step in range(self.num_steps):\n",
    "            cur = self.fc1(x[step].view(x.shape[1], -1))\n",
    "            mem1, spk1 = self.lif1(cur, mem1)\n",
    "            \n",
    "            if self.batch_norm:\n",
    "                spk1 = self.dropout(spk1)\n",
    "\n",
    "            spk_rec.append(spk1)\n",
    "            mem_rec.append(mem1)\n",
    "        \n",
    "        return torch.stack(spk_rec), torch.stack(mem_rec)\n",
    "\n",
    "net = Net(config).to(device)"
   ]
  },
  {
   "cell_type": "markdown",
   "metadata": {},
   "source": [
    "### 1.4 Define Optimizer, LR Scheduler and Loss Function"
   ]
  },
  {
   "cell_type": "code",
   "execution_count": null,
   "metadata": {},
   "outputs": [],
   "source": [
    "optimizer = torch.optim.Adam(\n",
    "    net.parameters(),\n",
    "    lr=config[\"lr\"],\n",
    "    betas=config[\"betas\"]\n",
    ")\n",
    "\n",
    "scheduler = torch.optim.lr_scheduler.CosineAnnealingLR(\n",
    "    optimizer,\n",
    "    T_max=config[\"t_0\"],\n",
    "    eta_min=config[\"eta_min\"],\n",
    "    last_epoch=-1\n",
    ")\n",
    "\n",
    "criterion = SF.mse_count_loss(\n",
    "    correct_rate=config[\"correct_rate\"],\n",
    "    incorrect_rate=config[\"incorrect_rate\"]\n",
    ")"
   ]
  },
  {
   "cell_type": "markdown",
   "metadata": {},
   "source": [
    "### 1.5 Training and Evaluation"
   ]
  },
  {
   "cell_type": "code",
   "execution_count": null,
   "metadata": {},
   "outputs": [],
   "source": [
    "def train(config, net, trainloader, criterion, optimizer, device=\"cpu\", scheduler=None):\n",
    "    \"\"\"\n",
    "    Complete one epoch of training.\n",
    "    \"\"\"\n",
    "    \n",
    "    net.train()\n",
    "    loss_accum = []\n",
    "    lr_accum = []\n",
    "    for data, labels in trainloader:\n",
    "        data, labels = data.to(device), labels.to(device)\n",
    "        # Encode data into spikes\n",
    "        data = spikegen.latency(data, num_steps=100, tau=5, threshold=0.01, linear=True, normalize=True, clip=True)\n",
    "        spk_rec, mem_rec = net(data)\n",
    "        loss = criterion(spk_rec, labels)\n",
    "        optimizer.zero_grad()\n",
    "        loss.backward()\n",
    "\n",
    "        ## Enable gradient clipping\n",
    "        if config[\"grad_clip\"]:\n",
    "            nn.utils.clip_grad_norm_(net.parameters(), 1.0)\n",
    "\n",
    "        ## Enable weight clipping\n",
    "        if config[\"weight_clip\"]:\n",
    "            with torch.no_grad():\n",
    "                for param in net.parameters():\n",
    "                    param.clamp_(-1, 1)\n",
    "\n",
    "        optimizer.step()\n",
    "        scheduler.step()\n",
    "        loss_accum.append(loss.item() / config[\"num_steps\"])\n",
    "        lr_accum.append(optimizer.param_groups[0][\"lr\"])\n",
    "\n",
    "    return loss_accum, lr_accum\n",
    "\n",
    "def test(config, net, testloader, device=\"cpu\"):\n",
    "    \"\"\"\n",
    "    Calculate accuracy on full test set.\n",
    "    \"\"\"\n",
    "\n",
    "    correct = 0\n",
    "    total = 0\n",
    "    with torch.no_grad():\n",
    "        net.eval()\n",
    "        for data in testloader:\n",
    "            images, labels = data\n",
    "            images, labels = images.to(device), labels.to(device)\n",
    "            images = spikegen.latency(images, num_steps=100, tau=5, threshold=0.01, linear=True, normalize=True, clip=True)\n",
    "            outputs, _ = net(images)\n",
    "            accuracy = SF.accuracy_rate(outputs, labels)\n",
    "            total += labels.size(0)\n",
    "            correct += accuracy * labels.size(0)\n",
    "\n",
    "    return 100 * correct / total\n",
    "\n",
    "loss_list = []\n",
    "lr_list = []\n",
    "\n",
    "print(f\"=======Training Network=======\")\n",
    "for epoch in range(config['num_epochs']):\n",
    "    loss, lr  = train(config, net, train_loader, criterion, optimizer, device, scheduler)\n",
    "    loss_list = loss_list + loss\n",
    "    lr_list   = lr_list + lr\n",
    "    # Test\n",
    "    test_accuracy = test(config, net, test_loader, device)\n",
    "    print(f\"Epoch: {epoch} \\tTest Accuracy: {test_accuracy}\")"
   ]
  },
  {
   "cell_type": "code",
   "execution_count": null,
   "metadata": {},
   "outputs": [],
   "source": [
    "%matplotlib inline\n",
    "import matplotlib.pyplot as plt\n",
    "\n",
    "fig, ax1 = plt.subplots()\n",
    "ax2 = ax1.twinx()\n",
    "ax1.plot(loss_list, color='tab:orange')\n",
    "ax2.plot(lr_list, color='tab:blue')\n",
    "ax1.set_xlabel('Iterationb')\n",
    "ax1.set_ylabel('Loss', color='tab:orange')\n",
    "ax2.set_ylabel('Learning Rate', color='tab:blue')\n",
    "plt.show()"
   ]
  },
  {
   "cell_type": "code",
   "execution_count": null,
   "metadata": {},
   "outputs": [],
   "source": [
    "# This seems to work\n",
    "net.fc1.quant_weight()/net.fc1.quant_weight().scale"
   ]
  },
  {
   "cell_type": "code",
   "execution_count": null,
   "metadata": {},
   "outputs": [],
   "source": [
    "# ???\n",
    "net.lif1.threshold/net.fc1.quant_weight().scale"
   ]
  },
  {
   "cell_type": "markdown",
   "metadata": {},
   "source": [
    "### 1.5 Network Test"
   ]
  },
  {
   "cell_type": "code",
   "execution_count": null,
   "metadata": {},
   "outputs": [],
   "source": [
    "fig, ax = plt.subplots(3, 1, figsize=(12, 6))\n",
    "iter_test = iter(test_loader)\n",
    "data_it, targets_it = next(iter_test)\n",
    "\n",
    "dataset = test_loader.dataset\n",
    "num_samples = len(dataset)\n",
    "ran_idx = torch.randint(0, num_samples, (3,))\n",
    "\n",
    "for i, idx in enumerate(ran_idx):\n",
    "    # Get some data\n",
    "    data_tmp, target_tmp = dataset[idx]\n",
    "\n",
    "    # Spike encode it\n",
    "    spike_data = spikegen.latency(data_tmp, num_steps=100, tau=5, threshold=0.01, linear=True, normalize=True, clip=True)\n",
    "    spike_data = spike_data.to(device)\n",
    "\n",
    "    # Forward pass\n",
    "    spk_rec, mem_rec = net(spike_data)\n",
    "\n",
    "    # Besværgelse (just summing the spikes)\n",
    "    pred = torch.argmax(spk_rec.sum(dim=0).squeeze()).item()\n",
    "\n",
    "    # Plot\n",
    "    splt.raster(spk_rec[:, 0].view(100, -1), ax[i], s=25, c=\"black\")\n",
    "    ax[i].set_yticks(np.arange(0, 10, 1))\n",
    "    ax[i].set_title(f\"Prediction: {pred}, Target: {target_tmp}\")\n",
    "\n",
    "plt.subplots_adjust(hspace=0.5)"
   ]
  },
  {
   "cell_type": "markdown",
   "metadata": {},
   "source": [
    "### 1.6 Save Model"
   ]
  },
  {
   "cell_type": "code",
   "execution_count": null,
   "metadata": {},
   "outputs": [],
   "source": [
    "dir = \"./models\"\n",
    "if not os.path.exists(dir):\n",
    "    os.makedirs(dir)\n",
    "torch.save(net.state_dict(), f\"{dir}/mnist.pth\")"
   ]
  },
  {
   "cell_type": "markdown",
   "metadata": {},
   "source": [
    "### 1.7 Extract Quantized Weights"
   ]
  },
  {
   "cell_type": "code",
   "execution_count": null,
   "metadata": {},
   "outputs": [],
   "source": [
    "weights = net.fc1.quant_weight()/net.fc1.quant_weight().scale\n",
    "weights = weights.cpu().detach().numpy()\n",
    "\n",
    "qsyn_bin = []\n",
    "for nrn in range(0, 10):\n",
    "    syn_weights = weights[nrn]\n",
    "    for syn in syn_weights:\n",
    "        qsyn = int(round(syn))\n",
    "        qsyn = max(-8, min(7, qsyn))\n",
    "        qsyn_bin.append(format(qsyn & 0b1111, '04b'))\n",
    "\n",
    "str = \"\"\n",
    "lines = []\n",
    "for syn in qsyn_bin:\n",
    "    str += syn\n",
    "    if len(str) == 32:\n",
    "        lines.append(str)\n",
    "        str = \"\"\n",
    "\n",
    "with open(\"weights.txt\", \"w\") as f:\n",
    "    for line in lines:\n",
    "        f.write(line + \"\\n\")"
   ]
  },
  {
   "cell_type": "markdown",
   "metadata": {},
   "source": [
    "## Extract Spike Encoded Number"
   ]
  },
  {
   "cell_type": "code",
   "execution_count": null,
   "metadata": {},
   "outputs": [],
   "source": [
    "dataset = test_loader.dataset\n",
    "data_tmp, target_tmp = dataset[idx]\n",
    "\n",
    "spike_data = spikegen.latency(data_tmp, num_steps=100, tau=5, threshold=0.01, linear=True, normalize=True, clip=True)\n",
    "spike_data = spike_data.to(device)\n",
    "spk_rec, mem_rec = net(spike_data)\n",
    "pred = torch.argmax(spk_rec.sum(dim=0).squeeze()).item()\n",
    "\n",
    "fig, ax = plt.subplots(2, 1, figsize=(12, 6))\n",
    "splt.raster(spike_data[:, 0].view(100, -1), ax[0], s=25, c=\"black\")\n",
    "splt.raster(spk_rec[:, 0].view(100, -1), ax[1], s=25, c=\"black\")\n",
    "ax[0].set_title(f\"Prediction: {pred}, Target: {target_tmp}\")"
   ]
  },
  {
   "cell_type": "code",
   "execution_count": null,
   "metadata": {},
   "outputs": [],
   "source": [
    "plt.plot(spk_rec[:, 0, 6].cpu().detach().numpy())"
   ]
  },
  {
   "cell_type": "code",
   "execution_count": null,
   "metadata": {},
   "outputs": [],
   "source": [
    "mem_rec.shape\n",
    "\n",
    "non_zero_indices = (mem_rec != 0).nonzero(as_tuple=True)\n",
    "non_zero_values = mem_rec[non_zero_indices]\n",
    "\n",
    "print(\"Non-zero indices:\", list(zip(*[i.tolist() for i in non_zero_indices])))\n",
    "print(\"Non-zero values:\", non_zero_values)"
   ]
  },
  {
   "cell_type": "code",
   "execution_count": null,
   "metadata": {},
   "outputs": [],
   "source": [
    "fig, ax = plt.subplots(2, 1, figsize=(12, 6))\n",
    "iter_test = iter(test_loader)\n",
    "data_it, targets_it = next(iter_test)\n",
    "\n",
    "for i, idx in enumerate(ran_idx):\n",
    "    # Get some data\n",
    "    data_tmp, target_tmp = dataset[idx]\n",
    "\n",
    "    # Spike encode it\n",
    "    spike_data = spikegen.latency(data_tmp, num_steps=100, tau=5, threshold=0.01, linear=True, normalize=True, clip=True)\n",
    "    spike_data = spike_data.to(device)\n",
    "\n",
    "    # Forward pass\n",
    "    spk_rec, _ = net(spike_data)\n",
    "\n",
    "    # Besværgelse (just summing the spikes)\n",
    "    pred = torch.argmax(spk_rec.sum(dim=0).squeeze()).item()\n",
    "\n",
    "    # Plot\n",
    "    splt.raster(spk_rec[:, 0].view(100, -1), ax[i], s=25, c=\"black\")\n",
    "    ax[i].set_yticks(np.arange(0, 10, 1))\n",
    "    ax[i].set_title(f\"Prediction: {pred}, Target: {target_tmp}\")\n",
    "\n",
    "plt.subplots_adjust(hspace=0.5)"
   ]
  },
  {
   "cell_type": "code",
   "execution_count": null,
   "metadata": {},
   "outputs": [],
   "source": [
    "exp_data = spike_data[:, 0, 0, :, :]\n",
    "\n",
    "lines = []\n",
    "count_ones = 0\n",
    "for i in range(100):\n",
    "    time_step = exp_data[i, :, :]\n",
    "    count_ones += torch.sum(time_step == 1).item()\n",
    "    for j in range(32):\n",
    "        string_0 = ''\n",
    "        for k in range(16):\n",
    "            if time_step[j, k] == 0:\n",
    "                string_0 += '00'\n",
    "            else:\n",
    "                string_0 += '01'\n",
    "        string_1 = ''\n",
    "        for k in range(16, 32):\n",
    "            if time_step[j, k] == 0:\n",
    "                string_1 += '00'\n",
    "            else:\n",
    "                string_1 += '01'\n",
    "        lines.append(string_0 + '\\n')\n",
    "        lines.append(string_1 + '\\n')\n",
    "\n",
    "    # Save to file\n",
    "    with open('C:/home/university/8-semester/fenrir/src/design_sources/data/spike_data.txt', 'w') as f:\n",
    "        f.writelines(lines)"
   ]
  },
  {
   "cell_type": "code",
   "execution_count": null,
   "metadata": {},
   "outputs": [],
   "source": [
    "net(spike_data)"
   ]
  },
  {
   "cell_type": "code",
   "execution_count": null,
   "metadata": {},
   "outputs": [],
   "source": []
  }
 ],
 "metadata": {
  "kernelspec": {
   "display_name": ".venv",
   "language": "python",
   "name": "python3"
  },
  "language_info": {
   "codemirror_mode": {
    "name": "ipython",
    "version": 3
   },
   "file_extension": ".py",
   "mimetype": "text/x-python",
   "name": "python",
   "nbconvert_exporter": "python",
   "pygments_lexer": "ipython3",
   "version": "3.12.5"
  }
 },
 "nbformat": 4,
 "nbformat_minor": 2
}
