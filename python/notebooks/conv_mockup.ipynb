{
 "cells": [
  {
   "cell_type": "code",
   "execution_count": 1,
   "id": "7365bbd8",
   "metadata": {},
   "outputs": [],
   "source": [
    "import numpy as np\n",
    "import torch\n",
    "import torch.nn as nn\n",
    "import matplotlib.pyplot as plt\n",
    "import seaborn as sns\n"
   ]
  },
  {
   "cell_type": "code",
   "execution_count": 2,
   "id": "83e9ca72",
   "metadata": {},
   "outputs": [],
   "source": [
    "kernel_size = 3\n",
    "in_channels = 2\n",
    "out_channels = 2"
   ]
  },
  {
   "cell_type": "code",
   "execution_count": 3,
   "id": "59568f0d",
   "metadata": {},
   "outputs": [],
   "source": [
    "# Kernel definitions\n",
    "k_edge_detector = np.array([\n",
    "    [-1, -1, -1],\n",
    "    [-1,  8, -1],\n",
    "    [-1, -1, -1]\n",
    "])\n",
    "k_blur = np.array([\n",
    "    [1, 2, 1],\n",
    "    [2, 4, 2],\n",
    "    [1, 2, 1]\n",
    "])\n",
    "k_sharpen = np.array([\n",
    "    [0, -1, 0],\n",
    "    [-1, 5, -1],\n",
    "    [0, -1, 0]\n",
    "])\n",
    "k_identity = np.array([\n",
    "    [0, 0, 0],\n",
    "    [0, 1, 0],\n",
    "    [0, 0, 0]\n",
    "])\n",
    "kernels_channel_indexed = {\n",
    "    0: [k_edge_detector, k_blur],\n",
    "    1: [k_sharpen, k_identity]\n",
    "}"
   ]
  },
  {
   "cell_type": "code",
   "execution_count": 4,
   "id": "5e76e9d4",
   "metadata": {},
   "outputs": [
    {
     "data": {
      "text/plain": [
       "[-1, 1]"
      ]
     },
     "execution_count": 4,
     "metadata": {},
     "output_type": "execute_result"
    }
   ],
   "source": [
    "def get_kernel_weights(\n",
    "    input_channel: int,\n",
    "    kernel_index: int = 0,\n",
    "    kernel_memory: dict = kernels_channel_indexed\n",
    "):\n",
    "    channel_kernels = kernel_memory[input_channel]\n",
    "\n",
    "    weights = [0] * len(channel_kernels)\n",
    "\n",
    "    for idx, kernel in enumerate(channel_kernels):\n",
    "        \n",
    "        weights[idx] = kernel.flatten()[kernel_index]\n",
    "\n",
    "    return weights\n",
    "\n",
    "get_kernel_weights(input_channel=0, kernel_index=0)"
   ]
  },
  {
   "cell_type": "code",
   "execution_count": 5,
   "id": "f29e0186",
   "metadata": {},
   "outputs": [
    {
     "data": {
      "text/plain": [
       "tensor([[[[-1., -1., -1.],\n",
       "          [-1.,  8., -1.],\n",
       "          [-1., -1., -1.]],\n",
       "\n",
       "         [[ 0., -1.,  0.],\n",
       "          [-1.,  5., -1.],\n",
       "          [ 0., -1.,  0.]]],\n",
       "\n",
       "\n",
       "        [[[ 1.,  2.,  1.],\n",
       "          [ 2.,  4.,  2.],\n",
       "          [ 1.,  2.,  1.]],\n",
       "\n",
       "         [[ 0.,  0.,  0.],\n",
       "          [ 0.,  1.,  0.],\n",
       "          [ 0.,  0.,  0.]]]])"
      ]
     },
     "execution_count": 5,
     "metadata": {},
     "output_type": "execute_result"
    }
   ],
   "source": [
    "def convert_to_torch_weight(kernels_dict):\n",
    "    input_channels = len(kernels_dict)\n",
    "    output_channels = len(kernels_dict[0])\n",
    "    \n",
    "    torch_weights = torch.zeros(output_channels, input_channels, kernel_size, kernel_size)\n",
    "\n",
    "    for input_channel in range(input_channels):\n",
    "        for output_channel in range(output_channels):\n",
    "            kernel = kernels_dict[input_channel][output_channel]\n",
    "            torch_weights[output_channel, input_channel, :, :] = torch.from_numpy(kernel.astype(np.float32))\n",
    "\n",
    "    return torch_weights \n",
    "\n",
    "convert_to_torch_weight(kernels_channel_indexed)"
   ]
  },
  {
   "cell_type": "code",
   "execution_count": 6,
   "id": "7c33cbf7",
   "metadata": {},
   "outputs": [],
   "source": [
    "def create_torch_layer(kernels_dict):\n",
    "    input_channels = len(kernels_dict)\n",
    "    output_channels = len(kernels_dict[0])\n",
    "\n",
    "    conv_layer = nn.Conv2d(\n",
    "        in_channels=input_channels,\n",
    "        out_channels=output_channels,\n",
    "        kernel_size=kernel_size,\n",
    "        padding=1,\n",
    "        bias=False,\n",
    "        padding_mode='zeros'\n",
    "    )\n",
    "\n",
    "    kernel_weights = convert_to_torch_weight(kernels_dict)\n",
    "    conv_layer.weight.data = kernel_weights\n",
    "    return conv_layer\n",
    "\n",
    "conv = create_torch_layer(kernels_channel_indexed)"
   ]
  },
  {
   "cell_type": "code",
   "execution_count": null,
   "id": "d0f13ace",
   "metadata": {},
   "outputs": [
    {
     "name": "stdout",
     "output_type": "stream",
     "text": [
      "dx: -1, dy: -1 => kernel_position: 0 => kernel vector weights: [-1  1]\n",
      "[-1.  1.]\n",
      "dx: -1, dy: 0 => kernel_position: 1 => kernel vector weights: [-1  2]\n",
      "[-1.  2.]\n",
      "dx: -1, dy: 1 => kernel_position: 2 => kernel vector weights: [-1  1]\n",
      "[-1.  1.]\n",
      "dx: 0, dy: -1 => kernel_position: 3 => kernel vector weights: [-1  2]\n",
      "[-1.  2.]\n",
      "dx: 0, dy: 0 => kernel_position: 4 => kernel vector weights: [8 4]\n",
      "[8. 4.]\n",
      "dx: 0, dy: 1 => kernel_position: 5 => kernel vector weights: [-1  2]\n",
      "[-1.  2.]\n",
      "dx: 1, dy: -1 => kernel_position: 6 => kernel vector weights: [-1  1]\n",
      "[-1.  1.]\n",
      "dx: 1, dy: 0 => kernel_position: 7 => kernel vector weights: [-1  2]\n",
      "[-1.  2.]\n",
      "dx: 1, dy: 1 => kernel_position: 8 => kernel vector weights: [-1  1]\n",
      "[-1.  1.]\n",
      "(8, 8, 2)\n"
     ]
    },
    {
     "data": {
      "image/png": "[encoded data removed]",
      "text/plain": [
       "<Figure size 1000x400 with 4 Axes>"
      ]
     },
     "metadata": {},
     "output_type": "display_data"
    }
   ],
   "source": [
    "def sim_one_channel(\n",
    "    in_channel_index: int,\n",
    "    event_coord: tuple[int, int],\n",
    "    image_dimensions: tuple[int, int],\n",
    "    kernel_size: int = kernel_size,\n",
    "    out_channels: int = out_channels,\n",
    "):\n",
    "\n",
    "    x, y = event_coord\n",
    "    img_w, img_h = image_dimensions\n",
    "    out_feature_maps = np.zeros((img_h, img_w, out_channels), dtype=np.float32)\n",
    "\n",
    "    kernel_offset = kernel_size // 2\n",
    "    for dx in range(-kernel_offset, kernel_offset+1):\n",
    "        for dy in range(-kernel_offset, kernel_offset+1):\n",
    "            kernel_position = (dx + kernel_offset) * kernel_size + (dy + kernel_offset)\n",
    "            kernel_weights = np.array(get_kernel_weights(in_channel_index, kernel_position))\n",
    "            #print(f\"dx: {dx}, dy: {dy} => kernel_position: {kernel_position} => kernel vector weights: {kernel_weights}\")\n",
    "\n",
    "            #print(out_feature_maps[y + dy, x + dx, :]+ kernel_weights)\n",
    "            if 0 <= x + dx < img_w and 0 <= y + dy < img_h:\n",
    "                out_feature_maps[y + dy, x + dx, :] += kernel_weights\n",
    "            \n",
    "\n",
    "    return out_feature_maps\n",
    "\n",
    "result = sim_one_channel(\n",
    "    in_channel_index=0,\n",
    "    event_coord=(3, 3),\n",
    "    image_dimensions=(8,8),\n",
    "    kernel_size=kernel_size,\n",
    "    out_channels=out_channels\n",
    ")\n",
    "print(result.shape)\n",
    "# Plot each output channel\n",
    "fig, axes = plt.subplots(1, out_channels, figsize=(5 * out_channels, 4))\n",
    "if out_channels == 1:\n",
    "    axes = [axes]\n",
    "for ch in range(out_channels):\n",
    "    ax = axes[ch]\n",
    "    im = ax.imshow(result[:, :, ch], cmap='Wistia')\n",
    "    ax.set_title(f\"Output channel {ch}\")\n",
    "    fig.colorbar(im, ax=ax)\n",
    "    # Print values on each cell\n",
    "    for i in range(result.shape[0]):\n",
    "        for j in range(result.shape[1]):\n",
    "            val = result[i, j, ch]\n",
    "            ax.text(j, i, f\"{val:.1f}\", ha='center', va='center', color='white' if abs(val) > 1 else 'black', fontsize=8)\n",
    "plt.tight_layout()\n",
    "plt.show()"
   ]
  },
  {
   "cell_type": "code",
   "execution_count": null,
   "id": "936cb9ff",
   "metadata": {},
   "outputs": [
    {
     "name": "stdout",
     "output_type": "stream",
     "text": [
      "Input image shape: torch.Size([1, 2, 8, 8])\n"
     ]
    }
   ],
   "source": [
    "# Make an input image for torch conv layer\n",
    "event_coord = (3, 3)  # Example event coordinate\n",
    "N, C_in, H, W = 1, in_channels, 8, 8\n",
    "input_image = torch.zeros((N, C_in, H, W), dtype=torch.float32)\n",
    "input_image[0, 0, event_coord[1], event_coord[0]] = 1.0  # Set the event at the specified coordinate\n"
   ]
  }
 ],
 "metadata": {
  "kernelspec": {
   "display_name": "snn-conv",
   "language": "python",
   "name": "python3"
  },
  "language_info": {
   "codemirror_mode": {
    "name": "ipython",
    "version": 3
   },
   "file_extension": ".py",
   "mimetype": "text/x-python",
   "name": "python",
   "nbconvert_exporter": "python",
   "pygments_lexer": "ipython3",
   "version": "3.9.21"
  }
 },
 "nbformat": 4,
 "nbformat_minor": 5
}
